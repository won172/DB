{
 "cells": [
  {
   "cell_type": "markdown",
   "metadata": {},
   "source": [
    "# 단일 ETF, 시장 데이터를 이용한 이벤트 스터디"
   ]
  },
  {
   "cell_type": "code",
   "execution_count": 261,
   "metadata": {},
   "outputs": [],
   "source": [
    "import pandas as pd\n",
    "import statsmodels.api as sm\n",
    "import warnings\n",
    "warnings.filterwarnings('ignore')\n",
    "\n",
    "# 주가 데이터 로드 (예: CSV 파일에서)\n",
    "df = pd.read_csv('C:/Users/swc08/Desktop/대학/DB보험금융공모전/데이터셋/ESGU.csv', parse_dates=['Date'])\n",
    "df.set_index('Date', inplace=True)\n",
    "\n",
    "# 이벤트 날짜와 이벤트 윈도우, 추정 윈도우 설정\n",
    "event_date = pd.Timestamp('2017-01-20')\n",
    "estimation_window = 30  # 추정 기간: 이벤트 이전 30일\n",
    "event_window = 10       # 이벤트 기간: 이벤트 전후 10일\n",
    "\n",
    "# 이벤트 윈도우와 추정 윈도우 설정\n",
    "estimation_start = event_date - pd.Timedelta(days=estimation_window + event_window)\n",
    "estimation_end = event_date - pd.Timedelta(days=1)\n",
    "event_start = event_date - pd.Timedelta(days=event_window)\n",
    "event_end = event_date + pd.Timedelta(days=event_window)\n",
    "\n",
    "\n"
   ]
  },
  {
   "cell_type": "code",
   "execution_count": 262,
   "metadata": {},
   "outputs": [],
   "source": [
    "df1 = pd.read_csv('C:/Users/swc08/Desktop/대학/DB보험금융공모전/데이터셋/ESGU.csv', parse_dates=['Date'])\n",
    "df1.set_index('Date', inplace=True)"
   ]
  },
  {
   "cell_type": "code",
   "execution_count": 263,
   "metadata": {},
   "outputs": [],
   "source": [
    "df2 = pd.read_csv('C:/Users/swc08/Desktop/대학/DB보험금융공모전/데이터셋/SPY.csv', parse_dates=['Date'])\n",
    "df2.set_index('Date', inplace=True)"
   ]
  },
  {
   "cell_type": "code",
   "execution_count": 264,
   "metadata": {},
   "outputs": [],
   "source": [
    "df3 = pd.concat([df1['Close'], df2['Close']],axis=1)"
   ]
  },
  {
   "cell_type": "code",
   "execution_count": 265,
   "metadata": {},
   "outputs": [],
   "source": [
    "df3.columns = [['Stock_Price', 'Market_Price']]"
   ]
  },
  {
   "cell_type": "code",
   "execution_count": 266,
   "metadata": {},
   "outputs": [],
   "source": [
    "# 추정 윈도우 데이터 추출\n",
    "estimation_data = df3.loc[estimation_start:estimation_end]\n",
    "event_data = df3.loc[event_start:event_end]"
   ]
  },
  {
   "cell_type": "code",
   "execution_count": 267,
   "metadata": {},
   "outputs": [],
   "source": [
    "import numpy as np\n",
    "event_data[\"Stock_Return\"] = np.log(event_data[\"Stock_Price\"] / event_data[\"Stock_Price\"].shift(1))\n",
    "event_data[\"Market_Return\"] = np.log(event_data[\"Market_Price\"] / event_data[\"Market_Price\"].shift(1))"
   ]
  },
  {
   "cell_type": "code",
   "execution_count": 268,
   "metadata": {},
   "outputs": [],
   "source": [
    "\n",
    "# 시장 수익률과 개별 주식 수익률 계산\n",
    "estimation_data['Market_Return'] = estimation_data['Market_Price'].pct_change()\n",
    "estimation_data['Stock_Return'] = estimation_data['Stock_Price'].pct_change()\n",
    "\n",
    "# 회귀 분석을 통한 알파와 베타 추정\n",
    "X = sm.add_constant(estimation_data['Market_Return'].dropna())\n",
    "y = estimation_data['Stock_Return'].dropna()\n",
    "model = sm.OLS(y, X).fit()\n",
    "alpha, beta = model.params\n"
   ]
  },
  {
   "cell_type": "code",
   "execution_count": 269,
   "metadata": {},
   "outputs": [
    {
     "data": {
      "text/html": [
       "<div>\n",
       "<style scoped>\n",
       "    .dataframe tbody tr th:only-of-type {\n",
       "        vertical-align: middle;\n",
       "    }\n",
       "\n",
       "    .dataframe tbody tr th {\n",
       "        vertical-align: top;\n",
       "    }\n",
       "\n",
       "    .dataframe thead tr th {\n",
       "        text-align: left;\n",
       "    }\n",
       "\n",
       "    .dataframe thead tr:last-of-type th {\n",
       "        text-align: right;\n",
       "    }\n",
       "</style>\n",
       "<table border=\"1\" class=\"dataframe\">\n",
       "  <thead>\n",
       "    <tr>\n",
       "      <th></th>\n",
       "      <th>Stock_Price</th>\n",
       "      <th>Market_Price</th>\n",
       "      <th>Stock_Return</th>\n",
       "      <th>Market_Return</th>\n",
       "      <th>Expected_Return</th>\n",
       "    </tr>\n",
       "    <tr>\n",
       "      <th>Date</th>\n",
       "      <th></th>\n",
       "      <th></th>\n",
       "      <th></th>\n",
       "      <th></th>\n",
       "      <th></th>\n",
       "    </tr>\n",
       "  </thead>\n",
       "  <tbody>\n",
       "    <tr>\n",
       "      <th>2017-01-10</th>\n",
       "      <td>44.065697</td>\n",
       "      <td>198.357468</td>\n",
       "      <td>NaN</td>\n",
       "      <td>NaN</td>\n",
       "      <td>NaN</td>\n",
       "    </tr>\n",
       "    <tr>\n",
       "      <th>2017-01-11</th>\n",
       "      <td>44.065697</td>\n",
       "      <td>198.918045</td>\n",
       "      <td>0.000000</td>\n",
       "      <td>0.002822</td>\n",
       "      <td>0.002711</td>\n",
       "    </tr>\n",
       "    <tr>\n",
       "      <th>2017-01-12</th>\n",
       "      <td>44.065697</td>\n",
       "      <td>198.418732</td>\n",
       "      <td>0.000000</td>\n",
       "      <td>-0.002513</td>\n",
       "      <td>-0.000574</td>\n",
       "    </tr>\n",
       "    <tr>\n",
       "      <th>2017-01-13</th>\n",
       "      <td>44.065697</td>\n",
       "      <td>198.874237</td>\n",
       "      <td>0.000000</td>\n",
       "      <td>0.002293</td>\n",
       "      <td>0.002385</td>\n",
       "    </tr>\n",
       "    <tr>\n",
       "      <th>2017-01-17</th>\n",
       "      <td>43.897419</td>\n",
       "      <td>198.173508</td>\n",
       "      <td>-0.003826</td>\n",
       "      <td>-0.003530</td>\n",
       "      <td>-0.001200</td>\n",
       "    </tr>\n",
       "    <tr>\n",
       "      <th>2017-01-18</th>\n",
       "      <td>43.897419</td>\n",
       "      <td>198.611496</td>\n",
       "      <td>0.000000</td>\n",
       "      <td>0.002208</td>\n",
       "      <td>0.002333</td>\n",
       "    </tr>\n",
       "    <tr>\n",
       "      <th>2017-01-19</th>\n",
       "      <td>43.897419</td>\n",
       "      <td>197.875732</td>\n",
       "      <td>0.000000</td>\n",
       "      <td>-0.003711</td>\n",
       "      <td>-0.001312</td>\n",
       "    </tr>\n",
       "    <tr>\n",
       "      <th>2017-01-20</th>\n",
       "      <td>43.897419</td>\n",
       "      <td>198.602737</td>\n",
       "      <td>0.000000</td>\n",
       "      <td>0.003667</td>\n",
       "      <td>0.003232</td>\n",
       "    </tr>\n",
       "    <tr>\n",
       "      <th>2017-01-23</th>\n",
       "      <td>43.897419</td>\n",
       "      <td>198.085953</td>\n",
       "      <td>0.000000</td>\n",
       "      <td>-0.002605</td>\n",
       "      <td>-0.000631</td>\n",
       "    </tr>\n",
       "    <tr>\n",
       "      <th>2017-01-24</th>\n",
       "      <td>44.207420</td>\n",
       "      <td>199.355987</td>\n",
       "      <td>0.007037</td>\n",
       "      <td>0.006391</td>\n",
       "      <td>0.004909</td>\n",
       "    </tr>\n",
       "    <tr>\n",
       "      <th>2017-01-25</th>\n",
       "      <td>44.207420</td>\n",
       "      <td>201.081497</td>\n",
       "      <td>0.000000</td>\n",
       "      <td>0.008618</td>\n",
       "      <td>0.006280</td>\n",
       "    </tr>\n",
       "    <tr>\n",
       "      <th>2017-01-26</th>\n",
       "      <td>44.207420</td>\n",
       "      <td>200.871338</td>\n",
       "      <td>0.000000</td>\n",
       "      <td>-0.001046</td>\n",
       "      <td>0.000330</td>\n",
       "    </tr>\n",
       "    <tr>\n",
       "      <th>2017-01-27</th>\n",
       "      <td>44.411129</td>\n",
       "      <td>200.555969</td>\n",
       "      <td>0.004597</td>\n",
       "      <td>-0.001571</td>\n",
       "      <td>0.000006</td>\n",
       "    </tr>\n",
       "    <tr>\n",
       "      <th>2017-01-30</th>\n",
       "      <td>44.411129</td>\n",
       "      <td>199.312210</td>\n",
       "      <td>0.000000</td>\n",
       "      <td>-0.006221</td>\n",
       "      <td>-0.002857</td>\n",
       "    </tr>\n",
       "  </tbody>\n",
       "</table>\n",
       "</div>"
      ],
      "text/plain": [
       "           Stock_Price Market_Price Stock_Return Market_Return Expected_Return\n",
       "Date                                                                          \n",
       "2017-01-10   44.065697   198.357468          NaN           NaN             NaN\n",
       "2017-01-11   44.065697   198.918045     0.000000      0.002822        0.002711\n",
       "2017-01-12   44.065697   198.418732     0.000000     -0.002513       -0.000574\n",
       "2017-01-13   44.065697   198.874237     0.000000      0.002293        0.002385\n",
       "2017-01-17   43.897419   198.173508    -0.003826     -0.003530       -0.001200\n",
       "2017-01-18   43.897419   198.611496     0.000000      0.002208        0.002333\n",
       "2017-01-19   43.897419   197.875732     0.000000     -0.003711       -0.001312\n",
       "2017-01-20   43.897419   198.602737     0.000000      0.003667        0.003232\n",
       "2017-01-23   43.897419   198.085953     0.000000     -0.002605       -0.000631\n",
       "2017-01-24   44.207420   199.355987     0.007037      0.006391        0.004909\n",
       "2017-01-25   44.207420   201.081497     0.000000      0.008618        0.006280\n",
       "2017-01-26   44.207420   200.871338     0.000000     -0.001046        0.000330\n",
       "2017-01-27   44.411129   200.555969     0.004597     -0.001571        0.000006\n",
       "2017-01-30   44.411129   199.312210     0.000000     -0.006221       -0.002857"
      ]
     },
     "execution_count": 269,
     "metadata": {},
     "output_type": "execute_result"
    }
   ],
   "source": [
    "event_data['Expected_Return'] = (alpha + beta * event_data['Market_Return'])\n",
    "event_data"
   ]
  },
  {
   "cell_type": "code",
   "execution_count": 270,
   "metadata": {},
   "outputs": [],
   "source": [
    "a = event_data['Stock_Return'].values\n",
    "b = event_data['Expected_Return'].values"
   ]
  },
  {
   "cell_type": "code",
   "execution_count": 271,
   "metadata": {},
   "outputs": [
    {
     "data": {
      "text/html": [
       "<div>\n",
       "<style scoped>\n",
       "    .dataframe tbody tr th:only-of-type {\n",
       "        vertical-align: middle;\n",
       "    }\n",
       "\n",
       "    .dataframe tbody tr th {\n",
       "        vertical-align: top;\n",
       "    }\n",
       "\n",
       "    .dataframe thead tr th {\n",
       "        text-align: left;\n",
       "    }\n",
       "\n",
       "    .dataframe thead tr:last-of-type th {\n",
       "        text-align: right;\n",
       "    }\n",
       "</style>\n",
       "<table border=\"1\" class=\"dataframe\">\n",
       "  <thead>\n",
       "    <tr>\n",
       "      <th></th>\n",
       "      <th>Stock_Return</th>\n",
       "      <th>Expected_Return</th>\n",
       "      <th>Abnormal_Return</th>\n",
       "      <th>CAR</th>\n",
       "    </tr>\n",
       "    <tr>\n",
       "      <th>Date</th>\n",
       "      <th></th>\n",
       "      <th></th>\n",
       "      <th></th>\n",
       "      <th></th>\n",
       "    </tr>\n",
       "  </thead>\n",
       "  <tbody>\n",
       "    <tr>\n",
       "      <th>2017-01-10</th>\n",
       "      <td>NaN</td>\n",
       "      <td>NaN</td>\n",
       "      <td>NaN</td>\n",
       "      <td>NaN</td>\n",
       "    </tr>\n",
       "    <tr>\n",
       "      <th>2017-01-11</th>\n",
       "      <td>0.000000</td>\n",
       "      <td>0.002711</td>\n",
       "      <td>-0.002711</td>\n",
       "      <td>-0.002711</td>\n",
       "    </tr>\n",
       "    <tr>\n",
       "      <th>2017-01-12</th>\n",
       "      <td>0.000000</td>\n",
       "      <td>-0.000574</td>\n",
       "      <td>0.000574</td>\n",
       "      <td>-0.002137</td>\n",
       "    </tr>\n",
       "    <tr>\n",
       "      <th>2017-01-13</th>\n",
       "      <td>0.000000</td>\n",
       "      <td>0.002385</td>\n",
       "      <td>-0.002385</td>\n",
       "      <td>-0.004522</td>\n",
       "    </tr>\n",
       "    <tr>\n",
       "      <th>2017-01-17</th>\n",
       "      <td>-0.003826</td>\n",
       "      <td>-0.001200</td>\n",
       "      <td>-0.002626</td>\n",
       "      <td>-0.007149</td>\n",
       "    </tr>\n",
       "    <tr>\n",
       "      <th>2017-01-18</th>\n",
       "      <td>0.000000</td>\n",
       "      <td>0.002333</td>\n",
       "      <td>-0.002333</td>\n",
       "      <td>-0.009481</td>\n",
       "    </tr>\n",
       "    <tr>\n",
       "      <th>2017-01-19</th>\n",
       "      <td>0.000000</td>\n",
       "      <td>-0.001312</td>\n",
       "      <td>0.001312</td>\n",
       "      <td>-0.008170</td>\n",
       "    </tr>\n",
       "    <tr>\n",
       "      <th>2017-01-20</th>\n",
       "      <td>0.000000</td>\n",
       "      <td>0.003232</td>\n",
       "      <td>-0.003232</td>\n",
       "      <td>-0.011401</td>\n",
       "    </tr>\n",
       "    <tr>\n",
       "      <th>2017-01-23</th>\n",
       "      <td>0.000000</td>\n",
       "      <td>-0.000631</td>\n",
       "      <td>0.000631</td>\n",
       "      <td>-0.010770</td>\n",
       "    </tr>\n",
       "    <tr>\n",
       "      <th>2017-01-24</th>\n",
       "      <td>0.007037</td>\n",
       "      <td>0.004909</td>\n",
       "      <td>0.002128</td>\n",
       "      <td>-0.008642</td>\n",
       "    </tr>\n",
       "    <tr>\n",
       "      <th>2017-01-25</th>\n",
       "      <td>0.000000</td>\n",
       "      <td>0.006280</td>\n",
       "      <td>-0.006280</td>\n",
       "      <td>-0.014922</td>\n",
       "    </tr>\n",
       "    <tr>\n",
       "      <th>2017-01-26</th>\n",
       "      <td>0.000000</td>\n",
       "      <td>0.000330</td>\n",
       "      <td>-0.000330</td>\n",
       "      <td>-0.015252</td>\n",
       "    </tr>\n",
       "    <tr>\n",
       "      <th>2017-01-27</th>\n",
       "      <td>0.004597</td>\n",
       "      <td>0.000006</td>\n",
       "      <td>0.004591</td>\n",
       "      <td>-0.010660</td>\n",
       "    </tr>\n",
       "    <tr>\n",
       "      <th>2017-01-30</th>\n",
       "      <td>0.000000</td>\n",
       "      <td>-0.002857</td>\n",
       "      <td>0.002857</td>\n",
       "      <td>-0.007803</td>\n",
       "    </tr>\n",
       "  </tbody>\n",
       "</table>\n",
       "</div>"
      ],
      "text/plain": [
       "           Stock_Return Expected_Return Abnormal_Return       CAR\n",
       "Date                                                             \n",
       "2017-01-10          NaN             NaN             NaN       NaN\n",
       "2017-01-11     0.000000        0.002711       -0.002711 -0.002711\n",
       "2017-01-12     0.000000       -0.000574        0.000574 -0.002137\n",
       "2017-01-13     0.000000        0.002385       -0.002385 -0.004522\n",
       "2017-01-17    -0.003826       -0.001200       -0.002626 -0.007149\n",
       "2017-01-18     0.000000        0.002333       -0.002333 -0.009481\n",
       "2017-01-19     0.000000       -0.001312        0.001312 -0.008170\n",
       "2017-01-20     0.000000        0.003232       -0.003232 -0.011401\n",
       "2017-01-23     0.000000       -0.000631        0.000631 -0.010770\n",
       "2017-01-24     0.007037        0.004909        0.002128 -0.008642\n",
       "2017-01-25     0.000000        0.006280       -0.006280 -0.014922\n",
       "2017-01-26     0.000000        0.000330       -0.000330 -0.015252\n",
       "2017-01-27     0.004597        0.000006        0.004591 -0.010660\n",
       "2017-01-30     0.000000       -0.002857        0.002857 -0.007803"
      ]
     },
     "execution_count": 271,
     "metadata": {},
     "output_type": "execute_result"
    }
   ],
   "source": [
    "event_data['Abnormal_Return'] = a-b\n",
    "event_data['CAR'] = event_data['Abnormal_Return'].cumsum()\n",
    "\n",
    "\n",
    "event_data[['Stock_Return', 'Expected_Return', 'Abnormal_Return', 'CAR']]"
   ]
  },
  {
   "cell_type": "code",
   "execution_count": null,
   "metadata": {},
   "outputs": [],
   "source": []
  },
  {
   "cell_type": "markdown",
   "metadata": {},
   "source": [
    "# 다중 ETF, 시장 데이터를 이용한 이벤트 스터디"
   ]
  },
  {
   "cell_type": "code",
   "execution_count": 99,
   "metadata": {},
   "outputs": [],
   "source": [
    "import numpy as np\n",
    "import pandas as pd\n",
    "import statsmodels.api as sm\n",
    "import warnings\n",
    "warnings.filterwarnings('ignore')\n",
    "\n",
    "# ESG ETF 데이터 불러오기\n",
    "esgu_etf = pd.read_csv('C:/Users/swc08/Desktop/대학/DB보험금융공모전/데이터셋/ESGU.csv', parse_dates=['Date'])\n",
    "esgv_etf = pd.read_csv('C:/Users/swc08/Desktop/대학/DB보험금융공모전/데이터셋/ESGV.csv', parse_dates=['Date'])\n",
    "vde_etf = pd.read_csv('C:/Users/swc08/Desktop/대학/DB보험금융공모전/데이터셋/VDE.csv', parse_dates=['Date'])\n",
    "sdus_etf = pd.read_csv('C:/Users/swc08/Desktop/대학/DB보험금융공모전/데이터셋/SDUS.csv', parse_dates=['Date'])\n",
    "tan_etf = pd.read_csv('C:/Users/swc08/Desktop/대학/DB보험금융공모전/데이터셋/TAN.csv', parse_dates=['Date'])\n",
    "evus_etf = pd.read_csv('C:/Users/swc08/Desktop/대학/DB보험금융공모전/데이터셋/EVUS.csv', parse_dates=['Date'])\n",
    "\n",
    "esgu_etf.set_index('Date', inplace=True)\n",
    "esgv_etf.set_index('Date', inplace=True)\n",
    "vde_etf.set_index('Date', inplace=True)\n",
    "sdus_etf.set_index('Date', inplace=True)\n",
    "tan_etf.set_index('Date', inplace=True)\n",
    "evus_etf.set_index('Date', inplace=True)\n",
    "\n",
    "\n",
    "# 시장 데이터 불러오기\n",
    "spy_etf = pd.read_csv('C:/Users/swc08/Desktop/대학/DB보험금융공모전/데이터셋/SPY.csv', parse_dates=['Date'])\n",
    "spy_etf.set_index('Date', inplace=True)\n"
   ]
  },
  {
   "cell_type": "code",
   "execution_count": 100,
   "metadata": {},
   "outputs": [],
   "source": [
    "# 이벤트 날짜 (가정 : 모든 ETF 동일)\n",
    "event_date = pd.Timestamp(\"2024-01-20\")\n",
    "\n",
    "# 이벤트 윈도우 설정\n",
    "estimation_window = 30  # 이벤트 이전 30일\n",
    "event_window = 10  # 이벤트 전후 10일"
   ]
  },
  {
   "cell_type": "code",
   "execution_count": 101,
   "metadata": {},
   "outputs": [],
   "source": [
    "df = pd.concat([esgu_etf['Close'],\n",
    "                esgv_etf['Close'],\n",
    "                vde_etf['Close'],\n",
    "                sdus_etf['Close'],\n",
    "                tan_etf['Close'],\n",
    "                evus_etf['Close'],\n",
    "                spy_etf['Close']],axis=1)"
   ]
  },
  {
   "cell_type": "code",
   "execution_count": 102,
   "metadata": {},
   "outputs": [],
   "source": [
    "df.columns = [['esgu_etf','esgv_etf',\n",
    "               'vde_etf','sdus_etf',\n",
    "               'tan_etf','evus_etf',\n",
    "               'spy_etf']]"
   ]
  },
  {
   "cell_type": "code",
   "execution_count": 103,
   "metadata": {},
   "outputs": [],
   "source": [
    "etf_list = []\n",
    "for i in range(0,7):\n",
    "    etf_list.append(df.columns[i][0])"
   ]
  },
  {
   "cell_type": "code",
   "execution_count": 104,
   "metadata": {},
   "outputs": [],
   "source": [
    "# 윈도우 설정\n",
    "estimation_start = event_date - pd.Timedelta(days=estimation_window + event_window)\n",
    "estimation_end = event_date - pd.Timedelta(days=1)\n",
    "event_start = event_date - pd.Timedelta(days=event_window)\n",
    "event_end = event_date + pd.Timedelta(days=event_window)\n",
    "\n",
    "# 추정 윈도우 및 이벤트 윈도우 데이터 추출\n",
    "estimation_data = df.loc[estimation_start:estimation_end]\n",
    "event_data = df.loc[event_start:event_end]\n",
    "\n",
    "event_data = event_data.dropna()\n",
    "estimation_data = event_data.dropna()"
   ]
  },
  {
   "cell_type": "code",
   "execution_count": 105,
   "metadata": {},
   "outputs": [],
   "source": [
    "event_data[\"Market_Return\"] = np.log(event_data[\"spy_etf\"] / event_data[\"spy_etf\"].shift(1)).fillna(0)\n",
    "\n",
    "estimation_data['Market_Return'] = estimation_data['spy_etf'].pct_change().fillna(0)"
   ]
  },
  {
   "cell_type": "code",
   "execution_count": 106,
   "metadata": {},
   "outputs": [],
   "source": [
    "estimation_data = estimation_data.dropna()"
   ]
  },
  {
   "cell_type": "code",
   "execution_count": 107,
   "metadata": {},
   "outputs": [
    {
     "data": {
      "text/plain": [
       "['esgu_etf',\n",
       " 'esgv_etf',\n",
       " 'vde_etf',\n",
       " 'sdus_etf',\n",
       " 'tan_etf',\n",
       " 'evus_etf',\n",
       " 'spy_etf']"
      ]
     },
     "execution_count": 107,
     "metadata": {},
     "output_type": "execute_result"
    }
   ],
   "source": [
    "etf_list"
   ]
  },
  {
   "cell_type": "code",
   "execution_count": 108,
   "metadata": {},
   "outputs": [
    {
     "name": "stdout",
     "output_type": "stream",
     "text": [
      "Analyzing esgu_etf with SPY on event date 2024-01-20 00:00:00...\n",
      "Analyzing esgv_etf with SPY on event date 2024-01-20 00:00:00...\n",
      "Analyzing vde_etf with SPY on event date 2024-01-20 00:00:00...\n",
      "Analyzing sdus_etf with SPY on event date 2024-01-20 00:00:00...\n",
      "Analyzing tan_etf with SPY on event date 2024-01-20 00:00:00...\n",
      "Analyzing evus_etf with SPY on event date 2024-01-20 00:00:00...\n"
     ]
    }
   ],
   "source": [
    "# 결과 저장\n",
    "results = []\n",
    "\n",
    "\n",
    "# 각 ETF별 동일한 이벤트 날짜 적용하여 분석\n",
    "for etf in etf_list[0:6]:\n",
    "    print(f\"Analyzing {etf} with SPY on event date {event_date}...\")\n",
    "\n",
    "    event_data[f\"{etf}_Return\"] = np.log(event_data[f\"{etf}\"] / event_data[f\"{etf}\"].shift(1)).fillna(0)\n",
    "    \n",
    "    # 수익률 계산\n",
    "    estimation_data[f\"{etf}_Return\"] = estimation_data[f'{etf}'].pct_change().fillna(0)\n",
    "    \n",
    "    # 회귀 분석 (시장 모델)\n",
    "    X = sm.add_constant(estimation_data[\"Market_Return\"])\n",
    "    y = estimation_data[f\"{etf}_Return\"]\n",
    "    model = sm.OLS(y, X).fit()\n",
    "    alpha, beta = model.params\n",
    "\n",
    "    # 비정상 수익률 (AR) 및 CAR 계산\n",
    "    event_data[\"Expected_Return\"] = alpha + beta * event_data[\"Market_Return\"]\n",
    "    a = event_data[f'{etf}_Return'].values\n",
    "    b = event_data['Expected_Return'].values\n",
    "        \n",
    "    event_data[\"Abnormal_Return\"] = a - b\n",
    "    event_data[\"CAR\"] = event_data[\"Abnormal_Return\"].cumsum()\n",
    "\n",
    "    # 결과 저장\n",
    "    for date, row in event_data.iterrows():\n",
    "        results.append({\n",
    "            \"Date\": date,\n",
    "            \"ETF\": etf,\n",
    "            \"Market\": 'SPY',\n",
    "            \"Event_Date\": event_date,\n",
    "            \"Stock_Return\": row[f\"{etf}_Return\"],\n",
    "            \"Expected_Return\": row[\"Expected_Return\"],\n",
    "            \"Abnormal_Return\": row[\"Abnormal_Return\"],\n",
    "            \"CAR\": row[\"CAR\"]\n",
    "        })\n",
    "\n"
   ]
  },
  {
   "cell_type": "code",
   "execution_count": 109,
   "metadata": {},
   "outputs": [],
   "source": [
    "df_results = pd.DataFrame(results)"
   ]
  },
  {
   "cell_type": "code",
   "execution_count": null,
   "metadata": {},
   "outputs": [
    {
     "data": {
      "text/plain": [
       "Date                0\n",
       "ETF                 0\n",
       "Market              0\n",
       "Event_Date          0\n",
       "Stock_Return        0\n",
       "Expected_Return    70\n",
       "Abnormal_Return    70\n",
       "CAR                70\n",
       "dtype: int64"
      ]
     },
     "execution_count": 111,
     "metadata": {},
     "output_type": "execute_result"
    }
   ],
   "source": [
    "df_results"
   ]
  },
  {
   "cell_type": "code",
   "execution_count": null,
   "metadata": {},
   "outputs": [],
   "source": []
  }
 ],
 "metadata": {
  "kernelspec": {
   "display_name": "base",
   "language": "python",
   "name": "python3"
  },
  "language_info": {
   "codemirror_mode": {
    "name": "ipython",
    "version": 3
   },
   "file_extension": ".py",
   "mimetype": "text/x-python",
   "name": "python",
   "nbconvert_exporter": "python",
   "pygments_lexer": "ipython3",
   "version": "3.11.7"
  }
 },
 "nbformat": 4,
 "nbformat_minor": 2
}
