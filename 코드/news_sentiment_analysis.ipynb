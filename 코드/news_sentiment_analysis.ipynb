{
 "cells": [
  {
   "cell_type": "markdown",
   "metadata": {},
   "source": [
    "# 뉴스 감성 분석"
   ]
  },
  {
   "cell_type": "code",
   "execution_count": 82,
   "metadata": {},
   "outputs": [],
   "source": [
    "# pip install transformers\n",
    "# pip install tf-keras\n",
    "# pip install vaderSentiment"
   ]
  },
  {
   "cell_type": "code",
   "execution_count": 1,
   "metadata": {},
   "outputs": [],
   "source": [
    "from transformers import pipeline\n",
    "from vaderSentiment.vaderSentiment import SentimentIntensityAnalyzer\n",
    "import pandas as pd\n",
    "import tensorflow\n",
    "import re"
   ]
  },
  {
   "cell_type": "code",
   "execution_count": 2,
   "metadata": {},
   "outputs": [],
   "source": [
    "news_df = pd.read_csv(\"../데이터셋/ProQuest_Articles_ALL4.csv\")"
   ]
  },
  {
   "cell_type": "code",
   "execution_count": 3,
   "metadata": {},
   "outputs": [],
   "source": [
    "news_df.drop('Source', axis=1, inplace=True)"
   ]
  },
  {
   "cell_type": "code",
   "execution_count": 4,
   "metadata": {},
   "outputs": [],
   "source": [
    "# 날짜 추출 함수 (YYYY-MM-DD 형식 변환)\n",
    "def extract_date(text):\n",
    "    # 날짜 패턴 찾기 (다양한 형식 지원)\n",
    "    match = re.search(r'(\\d{4}[-/.]\\d{2}[-/.]\\d{2})|(\\d{2}[thrdn]*\\s\\w+\\s\\d{4})', text)\n",
    "\n",
    "    if match:\n",
    "        date_str = match.group(0)\n",
    "\n",
    "        # 날짜 형식을 YYYY-MM-DD로 변환\n",
    "        try:\n",
    "            parsed_date = pd.to_datetime(date_str, errors='coerce', dayfirst=False)\n",
    "            return parsed_date.strftime('%Y-%m-%d')  # '0000-00-00' 형식\n",
    "        except:\n",
    "            return None  # 변환 실패 시 None 처리\n",
    "\n",
    "    return None  # 날짜 패턴이 없는 경우\n",
    "\n",
    "# 날짜 열 변환\n",
    "news_df['Date'] = news_df['Date'].apply(extract_date)\n"
   ]
  },
  {
   "cell_type": "code",
   "execution_count": 5,
   "metadata": {},
   "outputs": [
    {
     "data": {
      "text/html": [
       "<div>\n",
       "<style scoped>\n",
       "    .dataframe tbody tr th:only-of-type {\n",
       "        vertical-align: middle;\n",
       "    }\n",
       "\n",
       "    .dataframe tbody tr th {\n",
       "        vertical-align: top;\n",
       "    }\n",
       "\n",
       "    .dataframe thead th {\n",
       "        text-align: right;\n",
       "    }\n",
       "</style>\n",
       "<table border=\"1\" class=\"dataframe\">\n",
       "  <thead>\n",
       "    <tr style=\"text-align: right;\">\n",
       "      <th></th>\n",
       "      <th>Title</th>\n",
       "      <th>Date</th>\n",
       "    </tr>\n",
       "  </thead>\n",
       "  <tbody>\n",
       "  </tbody>\n",
       "</table>\n",
       "</div>"
      ],
      "text/plain": [
       "Empty DataFrame\n",
       "Columns: [Title, Date]\n",
       "Index: []"
      ]
     },
     "execution_count": 5,
     "metadata": {},
     "output_type": "execute_result"
    }
   ],
   "source": [
    "news_df[news_df['Date'].isna()]"
   ]
  },
  {
   "cell_type": "code",
   "execution_count": 6,
   "metadata": {},
   "outputs": [],
   "source": [
    "# 날짜 None인 행 삭제\n",
    "news_df.drop([91, 171, 179, 188], axis=0, inplace=True)"
   ]
  },
  {
   "cell_type": "code",
   "execution_count": 7,
   "metadata": {},
   "outputs": [
    {
     "name": "stdout",
     "output_type": "stream",
     "text": [
      "WARNING:tensorflow:From C:\\Users\\swc08\\AppData\\Roaming\\Python\\Python311\\site-packages\\tf_keras\\src\\losses.py:2976: The name tf.losses.sparse_softmax_cross_entropy is deprecated. Please use tf.compat.v1.losses.sparse_softmax_cross_entropy instead.\n",
      "\n",
      "WARNING:tensorflow:From C:\\Users\\swc08\\AppData\\Roaming\\Python\\Python311\\site-packages\\tf_keras\\src\\backend.py:873: The name tf.get_default_graph is deprecated. Please use tf.compat.v1.get_default_graph instead.\n",
      "\n"
     ]
    },
    {
     "name": "stderr",
     "output_type": "stream",
     "text": [
      "All PyTorch model weights were used when initializing TFDistilBertForSequenceClassification.\n",
      "\n",
      "All the weights of TFDistilBertForSequenceClassification were initialized from the PyTorch model.\n",
      "If your task is similar to the task the model of the checkpoint was trained on, you can already use TFDistilBertForSequenceClassification for predictions without further training.\n",
      "Device set to use 0\n"
     ]
    }
   ],
   "source": [
    "# 감성 분석 모델 로드 (Hugging Face 'DistilBERT' 기반)\n",
    "sentiment_pipeline = pipeline(\"sentiment-analysis\", model=\"distilbert-base-uncased-finetuned-sst-2-english\")\n",
    "\n",
    "# 감성 점수 계산 함수\n",
    "def get_bert_sentiment(text):\n",
    "    if pd.isna(text) or text.strip() == \"\":\n",
    "        return 0  # 빈 문장은 중립(0) 처리\n",
    "    result = sentiment_pipeline(text[:512])  # BERT는 최대 512 토큰까지 처리 가능\n",
    "    label = result[0]['label']\n",
    "    score = result[0]['score']\n",
    "    return score if label == \"POSITIVE\" else -score  # 긍정이면 양수, 부정이면 음수\n",
    "\n",
    "# 뉴스 본문 감성 분석 적용\n",
    "news_df['Sentiment_Score'] = news_df['Title'].apply(get_bert_sentiment)"
   ]
  },
  {
   "cell_type": "code",
   "execution_count": 8,
   "metadata": {},
   "outputs": [
    {
     "data": {
      "text/html": [
       "<div>\n",
       "<style scoped>\n",
       "    .dataframe tbody tr th:only-of-type {\n",
       "        vertical-align: middle;\n",
       "    }\n",
       "\n",
       "    .dataframe tbody tr th {\n",
       "        vertical-align: top;\n",
       "    }\n",
       "\n",
       "    .dataframe thead th {\n",
       "        text-align: right;\n",
       "    }\n",
       "</style>\n",
       "<table border=\"1\" class=\"dataframe\">\n",
       "  <thead>\n",
       "    <tr style=\"text-align: right;\">\n",
       "      <th></th>\n",
       "      <th>Title</th>\n",
       "      <th>Date</th>\n",
       "      <th>Sentiment_Score</th>\n",
       "    </tr>\n",
       "  </thead>\n",
       "  <tbody>\n",
       "    <tr>\n",
       "      <th>0</th>\n",
       "      <td>Tory senators kill climate change bill; NDP ou...</td>\n",
       "      <td>2010-11-18</td>\n",
       "      <td>-0.993788</td>\n",
       "    </tr>\n",
       "    <tr>\n",
       "      <th>1</th>\n",
       "      <td>Trump: Blame green policy</td>\n",
       "      <td>2014-09-20</td>\n",
       "      <td>-0.991146</td>\n",
       "    </tr>\n",
       "    <tr>\n",
       "      <th>2</th>\n",
       "      <td>Bill to trump local bans on fracking advances</td>\n",
       "      <td>2015-12-03</td>\n",
       "      <td>-0.884010</td>\n",
       "    </tr>\n",
       "    <tr>\n",
       "      <th>3</th>\n",
       "      <td>House OKs bill to trump local bans on fracking</td>\n",
       "      <td>2016-01-28</td>\n",
       "      <td>-0.621351</td>\n",
       "    </tr>\n",
       "    <tr>\n",
       "      <th>4</th>\n",
       "      <td>Trump Stresses Fossil Fuel Agenda In Energy Po...</td>\n",
       "      <td>2016-09-23</td>\n",
       "      <td>-0.964925</td>\n",
       "    </tr>\n",
       "    <tr>\n",
       "      <th>...</th>\n",
       "      <td>...</td>\n",
       "      <td>...</td>\n",
       "      <td>...</td>\n",
       "    </tr>\n",
       "    <tr>\n",
       "      <th>381</th>\n",
       "      <td>India should double down on climate action in ...</td>\n",
       "      <td>2025-02-12</td>\n",
       "      <td>-0.973281</td>\n",
       "    </tr>\n",
       "    <tr>\n",
       "      <th>382</th>\n",
       "      <td>In Modi-Trump statement, climate mitigation an...</td>\n",
       "      <td>2025-02-14</td>\n",
       "      <td>-0.911531</td>\n",
       "    </tr>\n",
       "    <tr>\n",
       "      <th>383</th>\n",
       "      <td>Trump hits roadblock on offshore drilling: Bid...</td>\n",
       "      <td>2025-02-16</td>\n",
       "      <td>-0.983906</td>\n",
       "    </tr>\n",
       "    <tr>\n",
       "      <th>384</th>\n",
       "      <td>How Trump’s Paris Climate Agreement withdrawal...</td>\n",
       "      <td>2025-02-18</td>\n",
       "      <td>-0.968012</td>\n",
       "    </tr>\n",
       "    <tr>\n",
       "      <th>385</th>\n",
       "      <td>Trump Plan to Repeal Climate Policy Could Upen...</td>\n",
       "      <td>2025-02-26</td>\n",
       "      <td>-0.955657</td>\n",
       "    </tr>\n",
       "  </tbody>\n",
       "</table>\n",
       "<p>382 rows × 3 columns</p>\n",
       "</div>"
      ],
      "text/plain": [
       "                                                 Title        Date  \\\n",
       "0    Tory senators kill climate change bill; NDP ou...  2010-11-18   \n",
       "1                            Trump: Blame green policy  2014-09-20   \n",
       "2        Bill to trump local bans on fracking advances  2015-12-03   \n",
       "3       House OKs bill to trump local bans on fracking  2016-01-28   \n",
       "4    Trump Stresses Fossil Fuel Agenda In Energy Po...  2016-09-23   \n",
       "..                                                 ...         ...   \n",
       "381  India should double down on climate action in ...  2025-02-12   \n",
       "382  In Modi-Trump statement, climate mitigation an...  2025-02-14   \n",
       "383  Trump hits roadblock on offshore drilling: Bid...  2025-02-16   \n",
       "384  How Trump’s Paris Climate Agreement withdrawal...  2025-02-18   \n",
       "385  Trump Plan to Repeal Climate Policy Could Upen...  2025-02-26   \n",
       "\n",
       "     Sentiment_Score  \n",
       "0          -0.993788  \n",
       "1          -0.991146  \n",
       "2          -0.884010  \n",
       "3          -0.621351  \n",
       "4          -0.964925  \n",
       "..               ...  \n",
       "381        -0.973281  \n",
       "382        -0.911531  \n",
       "383        -0.983906  \n",
       "384        -0.968012  \n",
       "385        -0.955657  \n",
       "\n",
       "[382 rows x 3 columns]"
      ]
     },
     "execution_count": 8,
     "metadata": {},
     "output_type": "execute_result"
    }
   ],
   "source": [
    "news_df"
   ]
  },
  {
   "cell_type": "code",
   "execution_count": 9,
   "metadata": {},
   "outputs": [],
   "source": [
    "news_df.to_csv('../데이터셋/news_sentiment_analysis.csv', index=False)"
   ]
  },
  {
   "cell_type": "code",
   "execution_count": null,
   "metadata": {},
   "outputs": [],
   "source": []
  }
 ],
 "metadata": {
  "kernelspec": {
   "display_name": "base",
   "language": "python",
   "name": "python3"
  },
  "language_info": {
   "codemirror_mode": {
    "name": "ipython",
    "version": 3
   },
   "file_extension": ".py",
   "mimetype": "text/x-python",
   "name": "python",
   "nbconvert_exporter": "python",
   "pygments_lexer": "ipython3",
   "version": "3.11.7"
  }
 },
 "nbformat": 4,
 "nbformat_minor": 2
}
