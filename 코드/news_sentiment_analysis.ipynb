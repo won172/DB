{
 "cells": [
  {
   "cell_type": "markdown",
   "metadata": {},
   "source": [
    "# 뉴스 감성 분석"
   ]
  },
  {
   "cell_type": "code",
   "execution_count": 82,
   "metadata": {},
   "outputs": [],
   "source": [
    "# pip install transformers\n",
    "# pip install tf-keras\n",
    "# pip install vaderSentiment"
   ]
  },
  {
   "cell_type": "code",
   "execution_count": 83,
   "metadata": {},
   "outputs": [],
   "source": [
    "from transformers import pipeline\n",
    "from vaderSentiment.vaderSentiment import SentimentIntensityAnalyzer\n",
    "import pandas as pd\n",
    "import tensorflow\n",
    "import re"
   ]
  },
  {
   "cell_type": "code",
   "execution_count": 84,
   "metadata": {},
   "outputs": [],
   "source": [
    "news_df = pd.read_csv(\"../데이터셋/ProQuest_Articles_Translated_2.csv\")"
   ]
  },
  {
   "cell_type": "code",
   "execution_count": 85,
   "metadata": {},
   "outputs": [],
   "source": [
    "news_df.drop('Source', axis=1, inplace=True)"
   ]
  },
  {
   "cell_type": "code",
   "execution_count": 86,
   "metadata": {},
   "outputs": [],
   "source": [
    "# 날짜 추출 함수 (YYYY-MM-DD 형식 변환)\n",
    "def extract_date(text):\n",
    "    # 날짜 패턴 찾기 (다양한 형식 지원)\n",
    "    match = re.search(r'(\\d{4}[-/.]\\d{2}[-/.]\\d{2})|(\\d{2}[thrdn]*\\s\\w+\\s\\d{4})', text)\n",
    "\n",
    "    if match:\n",
    "        date_str = match.group(0)\n",
    "\n",
    "        # 날짜 형식을 YYYY-MM-DD로 변환\n",
    "        try:\n",
    "            parsed_date = pd.to_datetime(date_str, errors='coerce', dayfirst=False)\n",
    "            return parsed_date.strftime('%Y-%m-%d')  # '0000-00-00' 형식\n",
    "        except:\n",
    "            return None  # 변환 실패 시 None 처리\n",
    "\n",
    "    return None  # 날짜 패턴이 없는 경우\n",
    "\n",
    "# 날짜 열 변환\n",
    "news_df['Date'] = news_df['Date'].apply(extract_date)\n"
   ]
  },
  {
   "cell_type": "code",
   "execution_count": 87,
   "metadata": {},
   "outputs": [
    {
     "data": {
      "text/html": [
       "<div>\n",
       "<style scoped>\n",
       "    .dataframe tbody tr th:only-of-type {\n",
       "        vertical-align: middle;\n",
       "    }\n",
       "\n",
       "    .dataframe tbody tr th {\n",
       "        vertical-align: top;\n",
       "    }\n",
       "\n",
       "    .dataframe thead th {\n",
       "        text-align: right;\n",
       "    }\n",
       "</style>\n",
       "<table border=\"1\" class=\"dataframe\">\n",
       "  <thead>\n",
       "    <tr style=\"text-align: right;\">\n",
       "      <th></th>\n",
       "      <th>Title</th>\n",
       "      <th>Date</th>\n",
       "      <th>Title_Translated</th>\n",
       "    </tr>\n",
       "  </thead>\n",
       "  <tbody>\n",
       "    <tr>\n",
       "      <th>91</th>\n",
       "      <td>A moral and a practical failure Trump's withdr...</td>\n",
       "      <td>None</td>\n",
       "      <td>트럼프의 파리 협정 탈퇴로 인한 도덕적 및 실질적 실패는 글로벌 위기에서 미국의 역...</td>\n",
       "    </tr>\n",
       "    <tr>\n",
       "      <th>171</th>\n",
       "      <td>Trump's withdrawal from the Paris Climate Agre...</td>\n",
       "      <td>None</td>\n",
       "      <td>트럼프의 파리 기후 협정 탈퇴는 아프리카와 지구에 해를 끼칩니다!</td>\n",
       "    </tr>\n",
       "    <tr>\n",
       "      <th>179</th>\n",
       "      <td>Trump administration takes aim at EPA policy</td>\n",
       "      <td>None</td>\n",
       "      <td>트럼프 행정부, EPA 정책을 겨냥하다</td>\n",
       "    </tr>\n",
       "    <tr>\n",
       "      <th>188</th>\n",
       "      <td>EPA mum on Trump order's effect on East Chicag...</td>\n",
       "      <td>None</td>\n",
       "      <td>트럼프 명령이 동부 시카고 청소에 미치는 영향에 대한 EPA 엄마</td>\n",
       "    </tr>\n",
       "  </tbody>\n",
       "</table>\n",
       "</div>"
      ],
      "text/plain": [
       "                                                 Title  Date  \\\n",
       "91   A moral and a practical failure Trump's withdr...  None   \n",
       "171  Trump's withdrawal from the Paris Climate Agre...  None   \n",
       "179       Trump administration takes aim at EPA policy  None   \n",
       "188  EPA mum on Trump order's effect on East Chicag...  None   \n",
       "\n",
       "                                      Title_Translated  \n",
       "91   트럼프의 파리 협정 탈퇴로 인한 도덕적 및 실질적 실패는 글로벌 위기에서 미국의 역...  \n",
       "171               트럼프의 파리 기후 협정 탈퇴는 아프리카와 지구에 해를 끼칩니다!  \n",
       "179                              트럼프 행정부, EPA 정책을 겨냥하다  \n",
       "188               트럼프 명령이 동부 시카고 청소에 미치는 영향에 대한 EPA 엄마  "
      ]
     },
     "execution_count": 87,
     "metadata": {},
     "output_type": "execute_result"
    }
   ],
   "source": [
    "news_df[news_df['Date'].isna()]"
   ]
  },
  {
   "cell_type": "code",
   "execution_count": 88,
   "metadata": {},
   "outputs": [],
   "source": [
    "# 날짜 None인 행 삭제\n",
    "news_df.drop([91, 171, 179, 188], axis=0, inplace=True)"
   ]
  },
  {
   "cell_type": "code",
   "execution_count": 89,
   "metadata": {},
   "outputs": [
    {
     "name": "stderr",
     "output_type": "stream",
     "text": [
      "All PyTorch model weights were used when initializing TFDistilBertForSequenceClassification.\n",
      "\n",
      "All the weights of TFDistilBertForSequenceClassification were initialized from the PyTorch model.\n",
      "If your task is similar to the task the model of the checkpoint was trained on, you can already use TFDistilBertForSequenceClassification for predictions without further training.\n",
      "Device set to use 0\n"
     ]
    }
   ],
   "source": [
    "# 감성 분석 모델 로드 (Hugging Face 'DistilBERT' 기반)\n",
    "sentiment_pipeline = pipeline(\"sentiment-analysis\", model=\"distilbert-base-uncased-finetuned-sst-2-english\")\n",
    "\n",
    "# 감성 점수 계산 함수\n",
    "def get_bert_sentiment(text):\n",
    "    if pd.isna(text) or text.strip() == \"\":\n",
    "        return 0  # 빈 문장은 중립(0) 처리\n",
    "    result = sentiment_pipeline(text[:512])  # BERT는 최대 512 토큰까지 처리 가능\n",
    "    label = result[0]['label']\n",
    "    score = result[0]['score']\n",
    "    return score if label == \"POSITIVE\" else -score  # 긍정이면 양수, 부정이면 음수\n",
    "\n",
    "# 뉴스 본문 감성 분석 적용\n",
    "news_df['Sentiment_Score'] = news_df['Title'].apply(get_bert_sentiment)"
   ]
  },
  {
   "cell_type": "code",
   "execution_count": 90,
   "metadata": {},
   "outputs": [
    {
     "data": {
      "text/html": [
       "<div>\n",
       "<style scoped>\n",
       "    .dataframe tbody tr th:only-of-type {\n",
       "        vertical-align: middle;\n",
       "    }\n",
       "\n",
       "    .dataframe tbody tr th {\n",
       "        vertical-align: top;\n",
       "    }\n",
       "\n",
       "    .dataframe thead th {\n",
       "        text-align: right;\n",
       "    }\n",
       "</style>\n",
       "<table border=\"1\" class=\"dataframe\">\n",
       "  <thead>\n",
       "    <tr style=\"text-align: right;\">\n",
       "      <th></th>\n",
       "      <th>Title</th>\n",
       "      <th>Date</th>\n",
       "      <th>Title_Translated</th>\n",
       "      <th>Sentiment_Score</th>\n",
       "    </tr>\n",
       "  </thead>\n",
       "  <tbody>\n",
       "    <tr>\n",
       "      <th>0</th>\n",
       "      <td>BACK STORY; Trump's old-energy plan nears a cr...</td>\n",
       "      <td>2018-01-11</td>\n",
       "      <td>배경 이야기; 트럼프의 오래된 에너지 계획은 중요한 시점에 가까워지고 있습니다; 그...</td>\n",
       "      <td>0.971675</td>\n",
       "    </tr>\n",
       "    <tr>\n",
       "      <th>1</th>\n",
       "      <td>Trump signs bill squashing Obama-era financial...</td>\n",
       "      <td>2017-02-14</td>\n",
       "      <td>트럼프, 화석 연료에 대한 오바마 시대의 금융 규칙을 무너뜨리는 법안 서명</td>\n",
       "      <td>-0.990895</td>\n",
       "    </tr>\n",
       "    <tr>\n",
       "      <th>2</th>\n",
       "      <td>Trump Stresses Fossil Fuel Agenda In Energy Po...</td>\n",
       "      <td>2016-09-23</td>\n",
       "      <td>트럼프, 에너지 정책 연설에서 화석 연료 의제 강조</td>\n",
       "      <td>-0.964925</td>\n",
       "    </tr>\n",
       "    <tr>\n",
       "      <th>3</th>\n",
       "      <td>Trump's energy policy perils; His embrace of f...</td>\n",
       "      <td>2016-11-22</td>\n",
       "      <td>트럼프의 에너지 정책은 위험에 처해 있으며, 화석 연료에 대한 그의 포용과 오바마의...</td>\n",
       "      <td>0.986535</td>\n",
       "    </tr>\n",
       "    <tr>\n",
       "      <th>4</th>\n",
       "      <td>Foolish &amp; costly; Moves by universities, munic...</td>\n",
       "      <td>2017-06-29</td>\n",
       "      <td>어리석고 비용이 많이 듭니다; 특히 트럼프 대통령이 파리 기후 협정에서 미국의 탈퇴...</td>\n",
       "      <td>-0.998990</td>\n",
       "    </tr>\n",
       "    <tr>\n",
       "      <th>...</th>\n",
       "      <td>...</td>\n",
       "      <td>...</td>\n",
       "      <td>...</td>\n",
       "      <td>...</td>\n",
       "    </tr>\n",
       "    <tr>\n",
       "      <th>341</th>\n",
       "      <td>Calif. death reported in E. coli outbreak tied...</td>\n",
       "      <td>2018-05-03</td>\n",
       "      <td>캘리포니아에서 아리즈와 관련된 대장균 발병으로 사망한 사례가 보고되었습니다. 상추;...</td>\n",
       "      <td>-0.998271</td>\n",
       "    </tr>\n",
       "    <tr>\n",
       "      <th>342</th>\n",
       "      <td>Trump's Yemen policy survives Senate's veto ov...</td>\n",
       "      <td>2019-05-03</td>\n",
       "      <td>트럼프의 예멘 정책은 상원의 거부권 무효화 입찰에서 살아남았습니다; 세인트. 루시아...</td>\n",
       "      <td>-0.890819</td>\n",
       "    </tr>\n",
       "    <tr>\n",
       "      <th>343</th>\n",
       "      <td>Press Secretary Spicer's blunder hard to belie...</td>\n",
       "      <td>2017-04-13</td>\n",
       "      <td>스파이서 장관의 실수는 믿기 어렵습니다; 스파이서 장관은 트럼프와 달리 실수를 인정...</td>\n",
       "      <td>-0.975777</td>\n",
       "    </tr>\n",
       "    <tr>\n",
       "      <th>344</th>\n",
       "      <td>Trump's Yemen policy survives Senate's veto ov...</td>\n",
       "      <td>2019-05-03</td>\n",
       "      <td>트럼프의 예멘 정책은 상원의 거부권 무효화 입찰에서 살아남았습니다. 뉴스 브리핑; ...</td>\n",
       "      <td>-0.773825</td>\n",
       "    </tr>\n",
       "    <tr>\n",
       "      <th>345</th>\n",
       "      <td>Secret FBI demands for data go beyond tech com...</td>\n",
       "      <td>2019-09-21</td>\n",
       "      <td>비밀 FBI의 데이터 요구는 기술 기업 뉴스 브리핑 직원 및 뉴스 서비스 판사를 넘...</td>\n",
       "      <td>-0.991301</td>\n",
       "    </tr>\n",
       "  </tbody>\n",
       "</table>\n",
       "<p>342 rows × 4 columns</p>\n",
       "</div>"
      ],
      "text/plain": [
       "                                                 Title        Date  \\\n",
       "0    BACK STORY; Trump's old-energy plan nears a cr...  2018-01-11   \n",
       "1    Trump signs bill squashing Obama-era financial...  2017-02-14   \n",
       "2    Trump Stresses Fossil Fuel Agenda In Energy Po...  2016-09-23   \n",
       "3    Trump's energy policy perils; His embrace of f...  2016-11-22   \n",
       "4    Foolish & costly; Moves by universities, munic...  2017-06-29   \n",
       "..                                                 ...         ...   \n",
       "341  Calif. death reported in E. coli outbreak tied...  2018-05-03   \n",
       "342  Trump's Yemen policy survives Senate's veto ov...  2019-05-03   \n",
       "343  Press Secretary Spicer's blunder hard to belie...  2017-04-13   \n",
       "344  Trump's Yemen policy survives Senate's veto ov...  2019-05-03   \n",
       "345  Secret FBI demands for data go beyond tech com...  2019-09-21   \n",
       "\n",
       "                                      Title_Translated  Sentiment_Score  \n",
       "0    배경 이야기; 트럼프의 오래된 에너지 계획은 중요한 시점에 가까워지고 있습니다; 그...         0.971675  \n",
       "1            트럼프, 화석 연료에 대한 오바마 시대의 금융 규칙을 무너뜨리는 법안 서명        -0.990895  \n",
       "2                         트럼프, 에너지 정책 연설에서 화석 연료 의제 강조        -0.964925  \n",
       "3    트럼프의 에너지 정책은 위험에 처해 있으며, 화석 연료에 대한 그의 포용과 오바마의...         0.986535  \n",
       "4    어리석고 비용이 많이 듭니다; 특히 트럼프 대통령이 파리 기후 협정에서 미국의 탈퇴...        -0.998990  \n",
       "..                                                 ...              ...  \n",
       "341  캘리포니아에서 아리즈와 관련된 대장균 발병으로 사망한 사례가 보고되었습니다. 상추;...        -0.998271  \n",
       "342  트럼프의 예멘 정책은 상원의 거부권 무효화 입찰에서 살아남았습니다; 세인트. 루시아...        -0.890819  \n",
       "343  스파이서 장관의 실수는 믿기 어렵습니다; 스파이서 장관은 트럼프와 달리 실수를 인정...        -0.975777  \n",
       "344  트럼프의 예멘 정책은 상원의 거부권 무효화 입찰에서 살아남았습니다. 뉴스 브리핑; ...        -0.773825  \n",
       "345  비밀 FBI의 데이터 요구는 기술 기업 뉴스 브리핑 직원 및 뉴스 서비스 판사를 넘...        -0.991301  \n",
       "\n",
       "[342 rows x 4 columns]"
      ]
     },
     "execution_count": 90,
     "metadata": {},
     "output_type": "execute_result"
    }
   ],
   "source": [
    "news_df"
   ]
  },
  {
   "cell_type": "code",
   "execution_count": 93,
   "metadata": {},
   "outputs": [],
   "source": [
    "news_df.to_csv('../데이터셋/news_sentiment_analysis.csv', index=False)"
   ]
  }
 ],
 "metadata": {
  "kernelspec": {
   "display_name": "base",
   "language": "python",
   "name": "python3"
  },
  "language_info": {
   "codemirror_mode": {
    "name": "ipython",
    "version": 3
   },
   "file_extension": ".py",
   "mimetype": "text/x-python",
   "name": "python",
   "nbconvert_exporter": "python",
   "pygments_lexer": "ipython3",
   "version": "3.11.7"
  }
 },
 "nbformat": 4,
 "nbformat_minor": 2
}
