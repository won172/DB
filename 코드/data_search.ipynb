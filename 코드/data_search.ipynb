{
 "cells": [
  {
   "cell_type": "markdown",
   "metadata": {},
   "source": [
    "# ETF 데이터 서치"
   ]
  },
  {
   "cell_type": "code",
   "execution_count": 14,
   "metadata": {},
   "outputs": [
    {
     "name": "stderr",
     "output_type": "stream",
     "text": [
      "[*********************100%***********************]  1 of 1 completed\n",
      "[*********************100%***********************]  1 of 1 completed\n",
      "[*********************100%***********************]  1 of 1 completed\n",
      "[*********************100%***********************]  1 of 1 completed\n",
      "[*********************100%***********************]  1 of 1 completed\n",
      "[*********************100%***********************]  1 of 1 completed\n"
     ]
    }
   ],
   "source": [
    "import numpy as np\n",
    "import pandas as pd\n",
    "import yfinance as yf\n",
    "\n",
    "# ESG ETF 데이터 불러오기\n",
    "esgu_etf = yf.download('ESGU', start='2010-01-01', end='2025-02-01')\n",
    "esgv_etf = yf.download('ESGV', start='2010-01-01', end='2025-02-01')\n",
    "dsi_etf = yf.download('DSI', start='2010-01-01', end='2025-02-01')\n",
    "ussg_etf = yf.download('USSG', start='2010-01-01', end='2025-02-01')\n",
    "tan_etf = yf.download('TAN', start='2010-01-01', end='2025-02-01')\n",
    "evus_etf = yf.download('EVUS', start='2010-01-01', end='2025-02-01')"
   ]
  },
  {
   "cell_type": "markdown",
   "metadata": {},
   "source": [
    "## 데이터 설명"
   ]
  },
  {
   "cell_type": "markdown",
   "metadata": {},
   "source": [
    "**변수명**\n",
    "- Date : 날짜\n",
    "- Open : 시가\n",
    "- HIGH : 고가\n",
    "- Low : 저가\n",
    "- Adj Close : 조정된 종가(배당, 액면분할 등을 반영한 종가)\n",
    "- Volume : 거래량"
   ]
  },
  {
   "cell_type": "markdown",
   "metadata": {},
   "source": [
    "### 1. ESGU"
   ]
  },
  {
   "cell_type": "markdown",
   "metadata": {},
   "source": [
    "- iShares ESG Aware MSCI USA ETF\n",
    "\n",
    "- MSCI USA Extended ESG Focus Index를 추종\n",
    "\n",
    "- ESG 기준을 충족하는 미국 대형 및 중형주에 투자"
   ]
  },
  {
   "cell_type": "markdown",
   "metadata": {},
   "source": [
    "### 2. ESGV"
   ]
  },
  {
   "cell_type": "markdown",
   "metadata": {},
   "source": [
    "- Vanguard ESG U.S. Stock ETF\n",
    "\n",
    "- FTSE USA All Cap Choice Index를 추종\n",
    "\n",
    "- 담배, 무기, 원자력 등 특정 산업을 제외한 미국 주식에 투자"
   ]
  },
  {
   "cell_type": "markdown",
   "metadata": {},
   "source": [
    "### 3. DSI"
   ]
  },
  {
   "cell_type": "markdown",
   "metadata": {},
   "source": [
    "- iShares MSCI KLD 400 Social ETF\n",
    "\n",
    "- MSCI KLD 400 Social Index를 추종\n",
    "\n",
    "- 논란이 있는 활동에 연루되지 않은 ESG 성과가 우수한 미국 기업에 중점을 둠."
   ]
  },
  {
   "cell_type": "markdown",
   "metadata": {},
   "source": [
    "### 4. USSG"
   ]
  },
  {
   "cell_type": "markdown",
   "metadata": {},
   "source": [
    "- Xtrackers MSCI USA ESG Leaders Equity ETF\n",
    "\n",
    "- MSCI USA ESG Leaders Index를 추종\n",
    "\n",
    "- ESG 성과가 우수한 미국 기업에 투자"
   ]
  },
  {
   "cell_type": "markdown",
   "metadata": {},
   "source": [
    "### 5. TAN"
   ]
  },
  {
   "cell_type": "markdown",
   "metadata": {},
   "source": [
    "- Invesco Solar ETF\n",
    "\n",
    "- 태양광 에너지 산업에 중점을 둔 ETF\n",
    "\n",
    "- 태양광 관련 기업에 투자하여 재생에너지 분야의 성장 추구"
   ]
  },
  {
   "cell_type": "markdown",
   "metadata": {},
   "source": [
    "### 6. EVUS"
   ]
  },
  {
   "cell_type": "markdown",
   "metadata": {},
   "source": [
    "- iShares ESG Aware MSCI USA Value ETF\n",
    "\n",
    "- 가치 특성과 긍정적인 ESG 특성을 보이는 미국 기업의 주식 성과를 반영하도록 설계된 최적화된 주식 지수"
   ]
  },
  {
   "cell_type": "markdown",
   "metadata": {},
   "source": [
    "## 수익률 계산"
   ]
  },
  {
   "cell_type": "code",
   "execution_count": null,
   "metadata": {},
   "outputs": [],
   "source": [
    "etfs = [esgu_etf, esgv_etf, dsi_etf, ussg_etf, tan_etf, evus_etf]\n",
    "\n",
    "for etf in etfs:\n",
    "    etf[\"Log Return\"] = np.log(etf[\"Close\"] / etf[\"Close\"].shift(1))"
   ]
  },
  {
   "cell_type": "code",
   "execution_count": null,
   "metadata": {},
   "outputs": [],
   "source": [
    "esgu_etf.to_csv('C:/Users/swc08/Desktop/대학/DB보험금융공모전/데이터셋/ESGU.csv', encoding='cp949')\n",
    "esgv_etf.to_csv('C:/Users/swc08/Desktop/대학/DB보험금융공모전/데이터셋/ESGV.csv', encoding='cp949')\n",
    "dsi_etf.to_csv('C:/Users/swc08/Desktop/대학/DB보험금융공모전/데이터셋/DSI.csv', encoding='cp949')\n",
    "ussg_etf.to_csv('C:/Users/swc08/Desktop/대학/DB보험금융공모전/데이터셋/USSG.csv', encoding='cp949')\n",
    "tan_etf.to_csv('C:/Users/swc08/Desktop/대학/DB보험금융공모전/데이터셋/TAN.csv', encoding='cp949')\n",
    "evus_etf.to_csv('C:/Users/swc08/Desktop/대학/DB보험금융공모전/데이터셋/EVUS.csv', encoding='cp949')"
   ]
  },
  {
   "cell_type": "markdown",
   "metadata": {},
   "source": [
    "# 비교 데이터 서치"
   ]
  },
  {
   "cell_type": "code",
   "execution_count": 23,
   "metadata": {},
   "outputs": [
    {
     "name": "stderr",
     "output_type": "stream",
     "text": [
      "[*********************100%***********************]  1 of 1 completed\n",
      "[*********************100%***********************]  1 of 1 completed\n",
      "[*********************100%***********************]  1 of 1 completed\n"
     ]
    }
   ],
   "source": [
    "spy_etf = yf.download('SPY', start='2010-01-01', end='2025-02-01')\n",
    "voo_etf = yf.download('VOO', start='2010-01-01', end='2025-02-01')\n",
    "ivv_etf = yf.download('IVV', start='2010-01-01', end='2025-02-01')"
   ]
  },
  {
   "cell_type": "markdown",
   "metadata": {},
   "source": [
    "## 데이터 설명"
   ]
  },
  {
   "cell_type": "markdown",
   "metadata": {},
   "source": [
    "### 1. SPY"
   ]
  },
  {
   "cell_type": "markdown",
   "metadata": {},
   "source": [
    "- SPDR S&P 500\n",
    "\n",
    "- S&P500 지수를 추종\n",
    "\n",
    "- NYSE Arca에서 지수에 포함된 500개 기업 모두로 구성된 포트폴리오를 보유"
   ]
  },
  {
   "cell_type": "markdown",
   "metadata": {},
   "source": [
    "### 2. VOO"
   ]
  },
  {
   "cell_type": "markdown",
   "metadata": {},
   "source": [
    "- Vanguard S&P 500 ETF\n",
    "\n",
    "- S&P500 지수를 추종\n",
    "\n",
    "- Vanguard에서 지수에 포함된 500개 기업 모두로 구성된 포트폴리오를 보유"
   ]
  },
  {
   "cell_type": "markdown",
   "metadata": {},
   "source": [
    "### 3. IVV"
   ]
  },
  {
   "cell_type": "markdown",
   "metadata": {},
   "source": [
    "- iShares Core S&P 500 ETF\n",
    "\n",
    "- S&P500 지수를 추종\n",
    "\n",
    "- iShares에서 지수에 포함된 500개 기업 모두로 구성된 포트폴리오를 보유"
   ]
  },
  {
   "cell_type": "markdown",
   "metadata": {},
   "source": [
    "## 수익률 계산"
   ]
  },
  {
   "cell_type": "code",
   "execution_count": 24,
   "metadata": {},
   "outputs": [],
   "source": [
    "spy_etf[\"Log Return\"] = np.log(spy_etf[\"Close\"] / spy_etf[\"Close\"].shift(1))\n",
    "voo_etf[\"Log Return\"] = np.log(voo_etf[\"Close\"] / voo_etf[\"Close\"].shift(1))\n",
    "ivv_etf[\"Log Return\"] = np.log(ivv_etf[\"Close\"] / ivv_etf[\"Close\"].shift(1))"
   ]
  },
  {
   "cell_type": "code",
   "execution_count": 25,
   "metadata": {},
   "outputs": [],
   "source": [
    "spy_etf.to_csv('C:/Users/swc08/Desktop/대학/DB보험금융공모전/데이터셋/SPY.csv', encoding='cp949')\n",
    "voo_etf.to_csv('C:/Users/swc08/Desktop/대학/DB보험금융공모전/데이터셋/VOO.csv', encoding='cp949')\n",
    "ivv_etf.to_csv('C:/Users/swc08/Desktop/대학/DB보험금융공모전/데이터셋/IVV.csv', encoding='cp949')"
   ]
  },
  {
   "cell_type": "code",
   "execution_count": null,
   "metadata": {},
   "outputs": [],
   "source": []
  }
 ],
 "metadata": {
  "kernelspec": {
   "display_name": "base",
   "language": "python",
   "name": "python3"
  },
  "language_info": {
   "codemirror_mode": {
    "name": "ipython",
    "version": 3
   },
   "file_extension": ".py",
   "mimetype": "text/x-python",
   "name": "python",
   "nbconvert_exporter": "python",
   "pygments_lexer": "ipython3",
   "version": "3.11.7"
  }
 },
 "nbformat": 4,
 "nbformat_minor": 2
}
