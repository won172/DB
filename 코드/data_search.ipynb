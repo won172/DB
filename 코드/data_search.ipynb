{
 "cells": [
  {
   "cell_type": "markdown",
   "metadata": {},
   "source": [
    "# ETF 데이터 서치"
   ]
  },
  {
   "cell_type": "code",
   "execution_count": 1,
   "metadata": {},
   "outputs": [
    {
     "name": "stderr",
     "output_type": "stream",
     "text": [
      "[*********************100%***********************]  1 of 1 completed\n",
      "[*********************100%***********************]  1 of 1 completed\n",
      "[*********************100%***********************]  1 of 1 completed\n",
      "[*********************100%***********************]  1 of 1 completed\n",
      "[*********************100%***********************]  1 of 1 completed\n",
      "[*********************100%***********************]  1 of 1 completed\n"
     ]
    }
   ],
   "source": [
    "import numpy as np\n",
    "import pandas as pd\n",
    "import yfinance as yf\n",
    "\n",
    "# ESG ETF 데이터 불러오기\n",
    "esgu_etf = yf.download('ESGU', start='2010-01-01', end='2025-02-01')\n",
    "erth_etf = yf.download('ERTH', start='2010-01-01', end='2025-02-01')\n",
    "vde_etf = yf.download('VDE', start='2010-01-01', end='2025-02-01')\n",
    "nulg_etf = yf.download('NULG', start='2010-01-01', end='2025-02-01')\n",
    "tan_etf = yf.download('TAN', start='2010-01-01', end='2025-02-01')\n",
    "susa_etf = yf.download('SUSA', start='2010-01-01', end='2025-02-01')"
   ]
  },
  {
   "cell_type": "markdown",
   "metadata": {},
   "source": [
    "## 데이터 설명"
   ]
  },
  {
   "cell_type": "markdown",
   "metadata": {},
   "source": [
    "**변수명**\n",
    "- Date : 날짜\n",
    "- Open : 시가\n",
    "- HIGH : 고가\n",
    "- Low : 저가\n",
    "- Adj Close : 조정된 종가(배당, 액면분할 등을 반영한 종가)\n",
    "- Volume : 거래량"
   ]
  },
  {
   "cell_type": "markdown",
   "metadata": {},
   "source": [
    "### 1. ESGU"
   ]
  },
  {
   "cell_type": "markdown",
   "metadata": {},
   "source": [
    "- iShares ESG Aware MSCI USA ETF\n",
    "\n",
    "- MSCI USA Extended ESG Focus Index를 추종\n",
    "\n",
    "- ESG 기준을 충족하는 미국 대형 및 중형주에 투자"
   ]
  },
  {
   "cell_type": "markdown",
   "metadata": {},
   "source": [
    "### 2. ERTH"
   ]
  },
  {
   "cell_type": "markdown",
   "metadata": {},
   "source": [
    "- Invesco MSCI Sustainable Future ETF\n",
    "\n",
    "- 친환경 및 지속 가능한 기업 중심으로 구성\n",
    "\n",
    "- 대체 에너지, 에너지 효율, 폐기물 관리 등의 분야 포함"
   ]
  },
  {
   "cell_type": "markdown",
   "metadata": {},
   "source": [
    "### 3. VDE"
   ]
  },
  {
   "cell_type": "markdown",
   "metadata": {},
   "source": [
    "- Vanguard Energy Index Fund ETF\n",
    "\n",
    "- 석유, 천연가스, 석탄 등 에너지 제품의 탐사와 생산에 참여하는 기업의 주식이 포함"
   ]
  },
  {
   "cell_type": "markdown",
   "metadata": {},
   "source": [
    "### 4. NULG"
   ]
  },
  {
   "cell_type": "markdown",
   "metadata": {},
   "source": [
    "- Nuveen ESG Large-Cap Growth ETF\n",
    "\n",
    "- 사회적 책임 및 다양성, 포용성을 고려하여 종목을 선정\n",
    "\n",
    "- 대형 성장주 중심으로 구성되어 있음"
   ]
  },
  {
   "cell_type": "markdown",
   "metadata": {},
   "source": [
    "### 5. TAN"
   ]
  },
  {
   "cell_type": "markdown",
   "metadata": {},
   "source": [
    "- Invesco Solar ETF\n",
    "\n",
    "- 태양광 에너지 산업에 중점을 둔 ETF\n",
    "\n",
    "- 태양광 관련 기업에 투자하여 재생에너지 분야의 성장 추구"
   ]
  },
  {
   "cell_type": "markdown",
   "metadata": {},
   "source": [
    "### 6. SUSA"
   ]
  },
  {
   "cell_type": "markdown",
   "metadata": {},
   "source": [
    "- iShares ESG Aware MSCI USA Value ETF\n",
    "\n",
    "- MSCI USA ESG Select Index를 추종\n",
    "\n",
    "- 지배구조(G) 측면에서 투명성과 주주 친화적인 기업을 선별"
   ]
  },
  {
   "cell_type": "markdown",
   "metadata": {},
   "source": [
    "## 수익률 계산"
   ]
  },
  {
   "cell_type": "code",
   "execution_count": 2,
   "metadata": {},
   "outputs": [],
   "source": [
    "etfs = [esgu_etf, erth_etf, vde_etf, nulg_etf, tan_etf, susa_etf]\n",
    "\n",
    "for etf in etfs:\n",
    "    etf[\"Log_Return\"] = np.log(etf[\"Close\"] / etf[\"Close\"].shift(1))"
   ]
  },
  {
   "cell_type": "code",
   "execution_count": null,
   "metadata": {},
   "outputs": [],
   "source": [
    "esgu_etf.to_csv('C:/Users/swc08/Desktop/대학/DB보험금융공모전/데이터셋/ESGU.csv', encoding='cp949')\n",
    "erth_etf.to_csv('C:/Users/swc08/Desktop/대학/DB보험금융공모전/데이터셋/ESGV.csv', encoding='cp949')\n",
    "vde_etf.to_csv('C:/Users/swc08/Desktop/대학/DB보험금융공모전/데이터셋/VDE.csv', encoding='cp949')\n",
    "nulg_etf.to_csv('C:/Users/swc08/Desktop/대학/DB보험금융공모전/데이터셋/SDUS.csv', encoding='cp949')\n",
    "tan_etf.to_csv('C:/Users/swc08/Desktop/대학/DB보험금융공모전/데이터셋/TAN.csv', encoding='cp949')\n",
    "susa_etf.to_csv('C:/Users/swc08/Desktop/대학/DB보험금융공모전/데이터셋/EVUS.csv', encoding='cp949')"
   ]
  },
  {
   "cell_type": "markdown",
   "metadata": {},
   "source": [
    "# S&P500 지수 데이터 서치"
   ]
  },
  {
   "cell_type": "code",
   "execution_count": 11,
   "metadata": {},
   "outputs": [
    {
     "name": "stderr",
     "output_type": "stream",
     "text": [
      "[*********************100%***********************]  1 of 1 completed\n"
     ]
    }
   ],
   "source": [
    "gspc_etf = yf.download('^GSPC', start='2010-01-01', end='2025-02-01')"
   ]
  },
  {
   "cell_type": "code",
   "execution_count": 12,
   "metadata": {},
   "outputs": [],
   "source": [
    "gspc_etf[\"Log_Return\"] = np.log(gspc_etf[\"Close\"] / gspc_etf[\"Close\"].shift(1))"
   ]
  },
  {
   "cell_type": "code",
   "execution_count": 13,
   "metadata": {},
   "outputs": [],
   "source": [
    "gspc_etf.to_csv('C:/Users/swc08/Desktop/대학/DB보험금융공모전/데이터셋/^GSPC.csv', encoding='cp949')"
   ]
  },
  {
   "cell_type": "markdown",
   "metadata": {},
   "source": [
    "# 미국 유가 데이터 서치"
   ]
  },
  {
   "cell_type": "code",
   "execution_count": 5,
   "metadata": {},
   "outputs": [
    {
     "name": "stderr",
     "output_type": "stream",
     "text": [
      "[*********************100%***********************]  1 of 1 completed\n"
     ]
    }
   ],
   "source": [
    "WTI = yf.download('CL=F', start='2010-01-01', end='2025-02-01')"
   ]
  },
  {
   "cell_type": "code",
   "execution_count": 6,
   "metadata": {},
   "outputs": [
    {
     "name": "stderr",
     "output_type": "stream",
     "text": [
      "c:\\ProgramData\\anaconda3\\Lib\\site-packages\\pandas\\core\\internals\\blocks.py:366: RuntimeWarning: invalid value encountered in log\n",
      "  result = func(self.values, **kwargs)\n"
     ]
    }
   ],
   "source": [
    "WTI[\"Log_Return\"] = np.log(WTI[\"Close\"] / WTI[\"Close\"].shift(1))"
   ]
  },
  {
   "cell_type": "code",
   "execution_count": 7,
   "metadata": {},
   "outputs": [],
   "source": [
    "WTI.to_csv('C:/Users/swc08/Desktop/대학/DB보험금융공모전/데이터셋/WTI.csv', encoding='cp949')"
   ]
  },
  {
   "cell_type": "markdown",
   "metadata": {},
   "source": [
    "# 시장 변동성 데이터 서치"
   ]
  },
  {
   "cell_type": "code",
   "execution_count": 8,
   "metadata": {},
   "outputs": [
    {
     "name": "stderr",
     "output_type": "stream",
     "text": [
      "[*********************100%***********************]  1 of 1 completed\n"
     ]
    }
   ],
   "source": [
    "VIX = yf.download('VIX', start='2010-01-01', end='2025-02-01')"
   ]
  },
  {
   "cell_type": "code",
   "execution_count": 9,
   "metadata": {},
   "outputs": [],
   "source": [
    "VIX[\"Log_Return\"] = np.log(VIX[\"Close\"] / VIX[\"Close\"].shift(1))"
   ]
  },
  {
   "cell_type": "code",
   "execution_count": 10,
   "metadata": {},
   "outputs": [],
   "source": [
    "VIX.to_csv('C:/Users/swc08/Desktop/대학/DB보험금융공모전/데이터셋/VIX.csv', encoding='cp949')"
   ]
  },
  {
   "cell_type": "code",
   "execution_count": null,
   "metadata": {},
   "outputs": [],
   "source": []
  },
  {
   "cell_type": "code",
   "execution_count": null,
   "metadata": {},
   "outputs": [],
   "source": []
  }
 ],
 "metadata": {
  "kernelspec": {
   "display_name": "base",
   "language": "python",
   "name": "python3"
  },
  "language_info": {
   "codemirror_mode": {
    "name": "ipython",
    "version": 3
   },
   "file_extension": ".py",
   "mimetype": "text/x-python",
   "name": "python",
   "nbconvert_exporter": "python",
   "pygments_lexer": "ipython3",
   "version": "3.11.7"
  }
 },
 "nbformat": 4,
 "nbformat_minor": 2
}
